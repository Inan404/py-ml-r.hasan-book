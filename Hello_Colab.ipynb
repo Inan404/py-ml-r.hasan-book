{
  "nbformat": 4,
  "nbformat_minor": 0,
  "metadata": {
    "colab": {
      "provenance": [],
      "authorship_tag": "ABX9TyO+nDVs8pxPvtepU/R2S7CW",
      "include_colab_link": true
    },
    "kernelspec": {
      "name": "python3",
      "display_name": "Python 3"
    },
    "language_info": {
      "name": "python"
    }
  },
  "cells": [
    {
      "cell_type": "markdown",
      "metadata": {
        "id": "view-in-github",
        "colab_type": "text"
      },
      "source": [
        "<a href=\"https://colab.research.google.com/github/Inan404/py-ml-r.hasan-book/blob/main/Hello_Colab.ipynb\" target=\"_parent\"><img src=\"https://colab.research.google.com/assets/colab-badge.svg\" alt=\"Open In Colab\"/></a>"
      ]
    },
    {
      "cell_type": "code",
      "execution_count": null,
      "metadata": {
        "colab": {
          "base_uri": "https://localhost:8080/"
        },
        "id": "1HmqQjjK8Tc6",
        "outputId": "b0149e87-c950-44f2-a841-8ca16adac6ee"
      },
      "outputs": [
        {
          "output_type": "stream",
          "name": "stdout",
          "text": [
            "Hello World\n"
          ]
        }
      ],
      "source": [
        "print(\"Hello World\")"
      ]
    },
    {
      "cell_type": "code",
      "source": [
        "1+2"
      ],
      "metadata": {
        "colab": {
          "base_uri": "https://localhost:8080/"
        },
        "id": "uUrsMZnR8hJI",
        "outputId": "ae9c2a53-fc60-48b7-9ba8-8e1193b58a8c"
      },
      "execution_count": null,
      "outputs": [
        {
          "output_type": "execute_result",
          "data": {
            "text/plain": [
              "3"
            ]
          },
          "metadata": {},
          "execution_count": 2
        }
      ]
    },
    {
      "cell_type": "code",
      "source": [
        "from collections import defaultdict\n",
        "dictionary = defaultdict(list)\n",
        "dictionary[\"Lol\"] = \"Lmao\"\n",
        "print(list(dictionary.items()))"
      ],
      "metadata": {
        "colab": {
          "base_uri": "https://localhost:8080/"
        },
        "id": "PhhAUTQ38mmu",
        "outputId": "20533a10-207c-4c23-ea98-dbf083832786"
      },
      "execution_count": null,
      "outputs": [
        {
          "output_type": "stream",
          "name": "stdout",
          "text": [
            "[('Lol', 'Lmao')]\n"
          ]
        }
      ]
    },
    {
      "cell_type": "code",
      "source": [
        "print(\"Bye Colab!(for now :D)\")"
      ],
      "metadata": {
        "colab": {
          "base_uri": "https://localhost:8080/"
        },
        "id": "xTTcROkW828I",
        "outputId": "8b98ec77-ba02-4aa9-a5da-49e5dc9e314c"
      },
      "execution_count": null,
      "outputs": [
        {
          "output_type": "stream",
          "name": "stdout",
          "text": [
            "Bye Colab!(for now :D)\n"
          ]
        }
      ]
    },
    {
      "cell_type": "code",
      "source": [
        "2==4"
      ],
      "metadata": {
        "id": "BSduy2s_9Hd-",
        "colab": {
          "base_uri": "https://localhost:8080/"
        },
        "outputId": "aea0df1a-5ba8-4bc9-8c8d-9ceb185a070b"
      },
      "execution_count": 8,
      "outputs": [
        {
          "output_type": "execute_result",
          "data": {
            "text/plain": [
              "False"
            ]
          },
          "metadata": {},
          "execution_count": 8
        }
      ]
    },
    {
      "cell_type": "code",
      "source": [],
      "metadata": {
        "id": "i6vFTf3uBbi0"
      },
      "execution_count": null,
      "outputs": []
    }
  ]
}